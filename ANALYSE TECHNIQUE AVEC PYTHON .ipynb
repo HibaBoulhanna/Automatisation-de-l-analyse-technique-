{
 "cells": [
  {
   "cell_type": "markdown",
   "id": "a20494ef",
   "metadata": {},
   "source": [
    "# Implémentation de quelques algorithmes de trading "
   ]
  },
  {
   "cell_type": "markdown",
   "id": "81e4cc04",
   "metadata": {},
   "source": [
    "### 1.Importation des bibliothèques "
   ]
  },
  {
   "cell_type": "markdown",
   "id": "5303b814",
   "metadata": {},
   "source": [
    " * pandas : la manipulation des Datafrmes\n",
    " * matplotlib : production des visuels \n",
    " * yfinance : vise à résoudre ce problème en offrant un moyen fiable,avec la possibilité de télécharger des données de marché historiques à partir de ```Yahoo!finance```.\n",
    " * TA-Lib :est largement utilisée par les développeurs de logiciels de trading nécessitant d'effectuer une ```analyse technique``` des données des marchés financiers.\n",
    "\n",
    "> Comprend plus de 150 indicateurs tels que ADX, MACD, RSI, stochastique, bandes de Bollinger, etc.\n",
    "\n",
    "&nbsp;\n",
    ">Reconnaissance de modèle de chandelier\n",
    "\n",
    "&nbsp;\n",
    "API open source pour C/C++, Java, Perl, Python et .NET 100 % géré\n",
    "\n",
    "<font color='Red'>**REMARQUE :**</font>\n",
    "L'installation  de cette bibliothèque  est un peu laborieuse il est préconisé de suivre les étapes préscrites dans ce tuto : \n",
    "```https://blog.quantinsti.com/install-ta-lib-python/```"
   ]
  },
  {
   "cell_type": "code",
   "execution_count": 1,
   "id": "1106914d",
   "metadata": {},
   "outputs": [
    {
     "name": "stdout",
     "output_type": "stream",
     "text": [
      "Collecting yfinance\n",
      "  Downloading yfinance-0.1.63.tar.gz (26 kB)\n",
      "Requirement already satisfied: pandas>=0.24 in c:\\users\\lenovo\\anaconda3\\lib\\site-packages (from yfinance) (1.2.4)Note: you may need to restart the kernel to use updated packages.\n",
      "\n",
      "Requirement already satisfied: numpy>=1.15 in c:\\users\\lenovo\\anaconda3\\lib\\site-packages (from yfinance) (1.20.1)\n",
      "Requirement already satisfied: requests>=2.20 in c:\\users\\lenovo\\anaconda3\\lib\\site-packages (from yfinance) (2.25.1)\n",
      "Collecting multitasking>=0.0.7\n",
      "  Downloading multitasking-0.0.9.tar.gz (8.1 kB)\n",
      "Requirement already satisfied: lxml>=4.5.1 in c:\\users\\lenovo\\anaconda3\\lib\\site-packages (from yfinance) (4.6.3)\n",
      "Requirement already satisfied: pytz>=2017.3 in c:\\users\\lenovo\\anaconda3\\lib\\site-packages (from pandas>=0.24->yfinance) (2021.1)\n",
      "Requirement already satisfied: python-dateutil>=2.7.3 in c:\\users\\lenovo\\anaconda3\\lib\\site-packages (from pandas>=0.24->yfinance) (2.8.1)\n",
      "Requirement already satisfied: six>=1.5 in c:\\users\\lenovo\\anaconda3\\lib\\site-packages (from python-dateutil>=2.7.3->pandas>=0.24->yfinance) (1.15.0)\n",
      "Requirement already satisfied: chardet<5,>=3.0.2 in c:\\users\\lenovo\\anaconda3\\lib\\site-packages (from requests>=2.20->yfinance) (4.0.0)\n",
      "Requirement already satisfied: idna<3,>=2.5 in c:\\users\\lenovo\\anaconda3\\lib\\site-packages (from requests>=2.20->yfinance) (2.10)\n",
      "Requirement already satisfied: urllib3<1.27,>=1.21.1 in c:\\users\\lenovo\\anaconda3\\lib\\site-packages (from requests>=2.20->yfinance) (1.26.4)\n",
      "Requirement already satisfied: certifi>=2017.4.17 in c:\\users\\lenovo\\anaconda3\\lib\\site-packages (from requests>=2.20->yfinance) (2020.12.5)\n",
      "Building wheels for collected packages: yfinance, multitasking\n",
      "  Building wheel for yfinance (setup.py): started\n",
      "  Building wheel for yfinance (setup.py): finished with status 'done'\n",
      "  Created wheel for yfinance: filename=yfinance-0.1.63-py2.py3-none-any.whl size=23909 sha256=102957c30ecdc3f5a01580342b34e04f207e9940f84a3a3c9c6cc8f42debb76a\n",
      "  Stored in directory: c:\\users\\lenovo\\appdata\\local\\pip\\cache\\wheels\\ec\\cc\\c1\\32da8ee853d742d5d7cbd11ee04421222eb354672020b57297\n",
      "  Building wheel for multitasking (setup.py): started\n",
      "  Building wheel for multitasking (setup.py): finished with status 'done'\n",
      "  Created wheel for multitasking: filename=multitasking-0.0.9-py3-none-any.whl size=8368 sha256=f632d8f3bbe75443dea7e60a00df03eb3ff3f0a645c4221327b9a12b609e488c\n",
      "  Stored in directory: c:\\users\\lenovo\\appdata\\local\\pip\\cache\\wheels\\57\\6d\\a3\\a39b839cc75274d2acfb1c58bfead2f726c6577fe8c4723f13\n",
      "Successfully built yfinance multitasking\n",
      "Installing collected packages: multitasking, yfinance\n",
      "Successfully installed multitasking-0.0.9 yfinance-0.1.63\n"
     ]
    }
   ],
   "source": [
    "pip install yfinance\n"
   ]
  },
  {
   "cell_type": "code",
   "execution_count": 16,
   "id": "919368c5",
   "metadata": {},
   "outputs": [
    {
     "name": "stdout",
     "output_type": "stream",
     "text": [
      "Collecting backtrader\n",
      "  Downloading backtrader-1.9.76.123-py2.py3-none-any.whl (410 kB)\n",
      "Installing collected packages: backtrader\n",
      "Successfully installed backtrader-1.9.76.123\n",
      "Note: you may need to restart the kernel to use updated packages.\n"
     ]
    }
   ],
   "source": [
    "pip install backtrader"
   ]
  },
  {
   "cell_type": "code",
   "execution_count": 6,
   "id": "215b4ea3",
   "metadata": {},
   "outputs": [],
   "source": [
    "import talib\n",
    "import yfinance\n",
    "from matplotlib import pyplot as plt\n",
    "import datetime\n",
    "#import backtrader as bt"
   ]
  },
  {
   "cell_type": "markdown",
   "id": "62cfeac7",
   "metadata": {},
   "source": [
    "# L'indicateur **RSI**"
   ]
  },
  {
   "cell_type": "markdown",
   "id": "cd9bb331",
   "metadata": {},
   "source": [
    "*"
   ]
  },
  {
   "cell_type": "code",
   "execution_count": 7,
   "id": "a936100b",
   "metadata": {},
   "outputs": [
    {
     "name": "stdout",
     "output_type": "stream",
     "text": [
      "[*********************100%***********************]  1 of 1 completed\n"
     ]
    }
   ],
   "source": [
    "data_finance = yfinance.download('NFLX','2021-1-1','2021-10-1')\n",
    "rsi = talib.RSI(data_finance[\"Close\"])"
   ]
  },
  {
   "cell_type": "code",
   "execution_count": 10,
   "id": "8980252c",
   "metadata": {},
   "outputs": [
    {
     "data": {
      "text/html": [
       "<div>\n",
       "<style scoped>\n",
       "    .dataframe tbody tr th:only-of-type {\n",
       "        vertical-align: middle;\n",
       "    }\n",
       "\n",
       "    .dataframe tbody tr th {\n",
       "        vertical-align: top;\n",
       "    }\n",
       "\n",
       "    .dataframe thead th {\n",
       "        text-align: right;\n",
       "    }\n",
       "</style>\n",
       "<table border=\"1\" class=\"dataframe\">\n",
       "  <thead>\n",
       "    <tr style=\"text-align: right;\">\n",
       "      <th></th>\n",
       "      <th>Open</th>\n",
       "      <th>High</th>\n",
       "      <th>Low</th>\n",
       "      <th>Close</th>\n",
       "      <th>Adj Close</th>\n",
       "      <th>Volume</th>\n",
       "    </tr>\n",
       "    <tr>\n",
       "      <th>Date</th>\n",
       "      <th></th>\n",
       "      <th></th>\n",
       "      <th></th>\n",
       "      <th></th>\n",
       "      <th></th>\n",
       "      <th></th>\n",
       "    </tr>\n",
       "  </thead>\n",
       "  <tbody>\n",
       "    <tr>\n",
       "      <th>2020-12-31</th>\n",
       "      <td>525.530029</td>\n",
       "      <td>545.500000</td>\n",
       "      <td>523.150024</td>\n",
       "      <td>540.729980</td>\n",
       "      <td>540.729980</td>\n",
       "      <td>5392300</td>\n",
       "    </tr>\n",
       "    <tr>\n",
       "      <th>2021-01-04</th>\n",
       "      <td>539.000000</td>\n",
       "      <td>540.799988</td>\n",
       "      <td>515.090027</td>\n",
       "      <td>522.859985</td>\n",
       "      <td>522.859985</td>\n",
       "      <td>4444400</td>\n",
       "    </tr>\n",
       "    <tr>\n",
       "      <th>2021-01-05</th>\n",
       "      <td>521.549988</td>\n",
       "      <td>526.780029</td>\n",
       "      <td>515.890015</td>\n",
       "      <td>520.799988</td>\n",
       "      <td>520.799988</td>\n",
       "      <td>3133900</td>\n",
       "    </tr>\n",
       "    <tr>\n",
       "      <th>2021-01-06</th>\n",
       "      <td>511.970001</td>\n",
       "      <td>513.099976</td>\n",
       "      <td>499.500000</td>\n",
       "      <td>500.489990</td>\n",
       "      <td>500.489990</td>\n",
       "      <td>5346200</td>\n",
       "    </tr>\n",
       "    <tr>\n",
       "      <th>2021-01-07</th>\n",
       "      <td>508.279999</td>\n",
       "      <td>516.440002</td>\n",
       "      <td>506.420013</td>\n",
       "      <td>508.890015</td>\n",
       "      <td>508.890015</td>\n",
       "      <td>3686400</td>\n",
       "    </tr>\n",
       "    <tr>\n",
       "      <th>...</th>\n",
       "      <td>...</td>\n",
       "      <td>...</td>\n",
       "      <td>...</td>\n",
       "      <td>...</td>\n",
       "      <td>...</td>\n",
       "      <td>...</td>\n",
       "    </tr>\n",
       "    <tr>\n",
       "      <th>2021-09-24</th>\n",
       "      <td>592.500000</td>\n",
       "      <td>592.979980</td>\n",
       "      <td>583.640015</td>\n",
       "      <td>592.390015</td>\n",
       "      <td>592.390015</td>\n",
       "      <td>2126200</td>\n",
       "    </tr>\n",
       "    <tr>\n",
       "      <th>2021-09-27</th>\n",
       "      <td>587.950012</td>\n",
       "      <td>593.580017</td>\n",
       "      <td>576.929993</td>\n",
       "      <td>592.640015</td>\n",
       "      <td>592.640015</td>\n",
       "      <td>2504700</td>\n",
       "    </tr>\n",
       "    <tr>\n",
       "      <th>2021-09-28</th>\n",
       "      <td>589.000000</td>\n",
       "      <td>599.539978</td>\n",
       "      <td>580.159973</td>\n",
       "      <td>583.849976</td>\n",
       "      <td>583.849976</td>\n",
       "      <td>4431100</td>\n",
       "    </tr>\n",
       "    <tr>\n",
       "      <th>2021-09-29</th>\n",
       "      <td>589.010010</td>\n",
       "      <td>609.880005</td>\n",
       "      <td>588.010010</td>\n",
       "      <td>599.059998</td>\n",
       "      <td>599.059998</td>\n",
       "      <td>6221000</td>\n",
       "    </tr>\n",
       "    <tr>\n",
       "      <th>2021-09-30</th>\n",
       "      <td>608.049988</td>\n",
       "      <td>619.000000</td>\n",
       "      <td>608.049988</td>\n",
       "      <td>610.340027</td>\n",
       "      <td>610.340027</td>\n",
       "      <td>6612600</td>\n",
       "    </tr>\n",
       "  </tbody>\n",
       "</table>\n",
       "<p>189 rows × 6 columns</p>\n",
       "</div>"
      ],
      "text/plain": [
       "                  Open        High         Low       Close   Adj Close  \\\n",
       "Date                                                                     \n",
       "2020-12-31  525.530029  545.500000  523.150024  540.729980  540.729980   \n",
       "2021-01-04  539.000000  540.799988  515.090027  522.859985  522.859985   \n",
       "2021-01-05  521.549988  526.780029  515.890015  520.799988  520.799988   \n",
       "2021-01-06  511.970001  513.099976  499.500000  500.489990  500.489990   \n",
       "2021-01-07  508.279999  516.440002  506.420013  508.890015  508.890015   \n",
       "...                ...         ...         ...         ...         ...   \n",
       "2021-09-24  592.500000  592.979980  583.640015  592.390015  592.390015   \n",
       "2021-09-27  587.950012  593.580017  576.929993  592.640015  592.640015   \n",
       "2021-09-28  589.000000  599.539978  580.159973  583.849976  583.849976   \n",
       "2021-09-29  589.010010  609.880005  588.010010  599.059998  599.059998   \n",
       "2021-09-30  608.049988  619.000000  608.049988  610.340027  610.340027   \n",
       "\n",
       "             Volume  \n",
       "Date                 \n",
       "2020-12-31  5392300  \n",
       "2021-01-04  4444400  \n",
       "2021-01-05  3133900  \n",
       "2021-01-06  5346200  \n",
       "2021-01-07  3686400  \n",
       "...             ...  \n",
       "2021-09-24  2126200  \n",
       "2021-09-27  2504700  \n",
       "2021-09-28  4431100  \n",
       "2021-09-29  6221000  \n",
       "2021-09-30  6612600  \n",
       "\n",
       "[189 rows x 6 columns]"
      ]
     },
     "execution_count": 10,
     "metadata": {},
     "output_type": "execute_result"
    }
   ],
   "source": [
    "data_finance"
   ]
  },
  {
   "cell_type": "code",
   "execution_count": 16,
   "id": "063bb96d",
   "metadata": {},
   "outputs": [
    {
     "name": "stdout",
     "output_type": "stream",
     "text": [
      "<class 'pandas.core.frame.DataFrame'>\n",
      "DatetimeIndex: 189 entries, 2020-12-31 to 2021-09-30\n",
      "Data columns (total 6 columns):\n",
      " #   Column     Non-Null Count  Dtype  \n",
      "---  ------     --------------  -----  \n",
      " 0   Open       189 non-null    float64\n",
      " 1   High       189 non-null    float64\n",
      " 2   Low        189 non-null    float64\n",
      " 3   Close      189 non-null    float64\n",
      " 4   Adj Close  189 non-null    float64\n",
      " 5   Volume     189 non-null    int64  \n",
      "dtypes: float64(5), int64(1)\n",
      "memory usage: 10.3 KB\n"
     ]
    }
   ],
   "source": [
    "data_finance.info()"
   ]
  },
  {
   "cell_type": "code",
   "execution_count": 17,
   "id": "11bd1012",
   "metadata": {},
   "outputs": [
    {
     "data": {
      "text/html": [
       "<div>\n",
       "<style scoped>\n",
       "    .dataframe tbody tr th:only-of-type {\n",
       "        vertical-align: middle;\n",
       "    }\n",
       "\n",
       "    .dataframe tbody tr th {\n",
       "        vertical-align: top;\n",
       "    }\n",
       "\n",
       "    .dataframe thead th {\n",
       "        text-align: right;\n",
       "    }\n",
       "</style>\n",
       "<table border=\"1\" class=\"dataframe\">\n",
       "  <thead>\n",
       "    <tr style=\"text-align: right;\">\n",
       "      <th></th>\n",
       "      <th>Open</th>\n",
       "      <th>High</th>\n",
       "      <th>Low</th>\n",
       "      <th>Close</th>\n",
       "      <th>Adj Close</th>\n",
       "      <th>Volume</th>\n",
       "    </tr>\n",
       "    <tr>\n",
       "      <th>Date</th>\n",
       "      <th></th>\n",
       "      <th></th>\n",
       "      <th></th>\n",
       "      <th></th>\n",
       "      <th></th>\n",
       "      <th></th>\n",
       "    </tr>\n",
       "  </thead>\n",
       "  <tbody>\n",
       "    <tr>\n",
       "      <th>2020-12-31</th>\n",
       "      <td>525.530029</td>\n",
       "      <td>545.500000</td>\n",
       "      <td>523.150024</td>\n",
       "      <td>540.729980</td>\n",
       "      <td>540.729980</td>\n",
       "      <td>5392300</td>\n",
       "    </tr>\n",
       "    <tr>\n",
       "      <th>2021-01-04</th>\n",
       "      <td>539.000000</td>\n",
       "      <td>540.799988</td>\n",
       "      <td>515.090027</td>\n",
       "      <td>522.859985</td>\n",
       "      <td>522.859985</td>\n",
       "      <td>4444400</td>\n",
       "    </tr>\n",
       "    <tr>\n",
       "      <th>2021-01-05</th>\n",
       "      <td>521.549988</td>\n",
       "      <td>526.780029</td>\n",
       "      <td>515.890015</td>\n",
       "      <td>520.799988</td>\n",
       "      <td>520.799988</td>\n",
       "      <td>3133900</td>\n",
       "    </tr>\n",
       "    <tr>\n",
       "      <th>2021-01-06</th>\n",
       "      <td>511.970001</td>\n",
       "      <td>513.099976</td>\n",
       "      <td>499.500000</td>\n",
       "      <td>500.489990</td>\n",
       "      <td>500.489990</td>\n",
       "      <td>5346200</td>\n",
       "    </tr>\n",
       "    <tr>\n",
       "      <th>2021-01-07</th>\n",
       "      <td>508.279999</td>\n",
       "      <td>516.440002</td>\n",
       "      <td>506.420013</td>\n",
       "      <td>508.890015</td>\n",
       "      <td>508.890015</td>\n",
       "      <td>3686400</td>\n",
       "    </tr>\n",
       "  </tbody>\n",
       "</table>\n",
       "</div>"
      ],
      "text/plain": [
       "                  Open        High         Low       Close   Adj Close  \\\n",
       "Date                                                                     \n",
       "2020-12-31  525.530029  545.500000  523.150024  540.729980  540.729980   \n",
       "2021-01-04  539.000000  540.799988  515.090027  522.859985  522.859985   \n",
       "2021-01-05  521.549988  526.780029  515.890015  520.799988  520.799988   \n",
       "2021-01-06  511.970001  513.099976  499.500000  500.489990  500.489990   \n",
       "2021-01-07  508.279999  516.440002  506.420013  508.890015  508.890015   \n",
       "\n",
       "             Volume  \n",
       "Date                 \n",
       "2020-12-31  5392300  \n",
       "2021-01-04  4444400  \n",
       "2021-01-05  3133900  \n",
       "2021-01-06  5346200  \n",
       "2021-01-07  3686400  "
      ]
     },
     "execution_count": 17,
     "metadata": {},
     "output_type": "execute_result"
    }
   ],
   "source": [
    "data_finance.head()"
   ]
  },
  {
   "cell_type": "markdown",
   "id": "aeaa32a5",
   "metadata": {},
   "source": [
    "* statistiques descriptives "
   ]
  },
  {
   "cell_type": "code",
   "execution_count": 11,
   "id": "a20a1109",
   "metadata": {},
   "outputs": [
    {
     "data": {
      "text/plain": [
       "608.0499877929688"
      ]
     },
     "execution_count": 11,
     "metadata": {},
     "output_type": "execute_result"
    }
   ],
   "source": [
    "data_finance[\"Open\"].max()"
   ]
  },
  {
   "cell_type": "code",
   "execution_count": 13,
   "id": "08886d0d",
   "metadata": {},
   "outputs": [
    {
     "data": {
      "text/plain": [
       "478.5400085449219"
      ]
     },
     "execution_count": 13,
     "metadata": {},
     "output_type": "execute_result"
    }
   ],
   "source": [
    "data_finance[\"Low\"].min()"
   ]
  },
  {
   "cell_type": "code",
   "execution_count": 14,
   "id": "6a122899",
   "metadata": {},
   "outputs": [
    {
     "data": {
      "text/plain": [
       "619.0"
      ]
     },
     "execution_count": 14,
     "metadata": {},
     "output_type": "execute_result"
    }
   ],
   "source": [
    "data_finance[\"High\"].max()"
   ]
  },
  {
   "cell_type": "code",
   "execution_count": 15,
   "id": "0991a20f",
   "metadata": {},
   "outputs": [
    {
     "data": {
      "text/plain": [
       "523.1099853515625"
      ]
     },
     "execution_count": 15,
     "metadata": {},
     "output_type": "execute_result"
    }
   ],
   "source": [
    "data_finance[\"Close\"].median()"
   ]
  },
  {
   "cell_type": "code",
   "execution_count": 18,
   "id": "763f80b4",
   "metadata": {},
   "outputs": [
    {
     "data": {
      "text/plain": [
       "Open         2.986273e+01\n",
       "High         3.095544e+01\n",
       "Low          2.946200e+01\n",
       "Close        3.041894e+01\n",
       "Adj Close    3.041894e+01\n",
       "Volume       3.088585e+06\n",
       "dtype: float64"
      ]
     },
     "execution_count": 18,
     "metadata": {},
     "output_type": "execute_result"
    }
   ],
   "source": [
    "data_finance.std()"
   ]
  },
  {
   "cell_type": "code",
   "execution_count": null,
   "id": "94760be9",
   "metadata": {},
   "outputs": [],
   "source": [
    "from datetime import datetime\n",
    "import backtrader as bt\n",
    "from chapter_2_utils import MyBuySell\n",
    "\n",
    "# create a Stratey\n",
    "class RsiSignalStrategy(bt.SignalStrategy):\n",
    "    params = dict(rsi_periods=14, rsi_upper=70, rsi_lower=30, rsi_mid=50)\n",
    "\n",
    "    def __init__(self):\n",
    "\n",
    "        # add RSI indicator\n",
    "        rsi = bt.indicators.RSI(period=self.p.rsi_periods,\n",
    "                                upperband=self.p.rsi_upper,\n",
    "                                lowerband=self.p.rsi_lower)\n",
    "\n",
    "        # add RSI from TA-lib just for reference\n",
    "        bt.talib.RSI(self.data, plotname='TA_RSI')\n",
    "\n",
    "        # long condition (with exit)\n",
    "        rsi_signal_long = bt.ind.CrossUp(rsi, self.p.rsi_lower, plot=False)\n",
    "        self.signal_add(bt.SIGNAL_LONG, rsi_signal_long)\n",
    "        self.signal_add(bt.SIGNAL_LONGEXIT, -(rsi > self.p.rsi_mid))\n",
    "\n",
    "        # short condition (with exit)\n",
    "        rsi_signal_short = -bt.ind.CrossDown(rsi, self.p.rsi_upper, plot=False)\n",
    "        self.signal_add(bt.SIGNAL_SHORT, rsi_signal_short)\n",
    "        self.signal_add(bt.SIGNAL_SHORTEXIT, rsi < self.p.rsi_mid)\n",
    "\n",
    "# create a Data Feed\n",
    "data = bt.feeds.YahooFinanceData(dataname='FB',\n",
    "                                 fromdate=datetime(2018, 1, 1),\n",
    "                                 todate=datetime(2018, 12, 31))\n",
    "\n",
    "# create a Cerebro entity\n",
    "cerebro = bt.Cerebro(stdstats = False)\n",
    "\n",
    "# # set up the backtest\n",
    "cerebro.addstrategy(RsiSignalStrategy)\n",
    "cerebro.adddata(data)\n",
    "cerebro.broker.setcash(1000.0)\n",
    "cerebro.broker.setcommission(commission=0.001)\n",
    "cerebro.addobserver(MyBuySell)\n",
    "cerebro.addobserver(bt.observers.Value)\n",
    "cerebro.run()\n",
    "\n",
    "cerebro.plot(iplot=True, volume=False)"
   ]
  },
  {
   "cell_type": "code",
   "execution_count": null,
   "id": "109e9d21",
   "metadata": {},
   "outputs": [],
   "source": []
  }
 ],
 "metadata": {
  "kernelspec": {
   "display_name": "Python 3",
   "language": "python",
   "name": "python3"
  },
  "language_info": {
   "codemirror_mode": {
    "name": "ipython",
    "version": 3
   },
   "file_extension": ".py",
   "mimetype": "text/x-python",
   "name": "python",
   "nbconvert_exporter": "python",
   "pygments_lexer": "ipython3",
   "version": "3.8.8"
  }
 },
 "nbformat": 4,
 "nbformat_minor": 5
}
